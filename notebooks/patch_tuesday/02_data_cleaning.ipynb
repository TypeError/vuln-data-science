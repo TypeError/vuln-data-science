{
 "cells": [
  {
   "cell_type": "markdown",
   "id": "694d3d70469bb602",
   "metadata": {},
   "source": [
    "# Patch Tuesday - Data Cleaning"
   ]
  },
  {
   "cell_type": "code",
   "id": "f0ea410ba01c8838",
   "metadata": {
    "ExecuteTime": {
     "end_time": "2024-06-26T10:16:10.086428Z",
     "start_time": "2024-06-26T10:16:10.083123Z"
    }
   },
   "source": [
    "import json\n",
    "\n",
    "import pandas as pd"
   ],
   "outputs": [],
   "execution_count": 1
  },
  {
   "cell_type": "markdown",
   "id": "eca610d527efd463",
   "metadata": {},
   "source": [
    "## Integrating MSRC, CISA KEV, and EPSS Data\n",
    "\n",
    "This section of the notebook focuses on consolidating vulnerability data from multiple sources to provide a comprehensive view of security threats and their exploitability. The integration process combines data from [Microsoft Security Response Center (MSRC)](https://msrc.microsoft.com/update-guide/), [CISA's Known Exploited Vulnerabilities (KEV)](https://www.cisa.gov/known-exploited-vulnerabilities-catalog), and the [Exploit Prediction Scoring System (EPSS)](https://www.first.org/epss). \n",
    "\n",
    "The following steps describe how the data is processed:\n",
    "\n",
    "1. **Load MSRC Data**: The JSON file containing MSRC vulnerability data is loaded from the local storage. This data includes detailed information about vulnerabilities that have been identified in Microsoft products.\n",
    "\n",
    "2. **Load CISA KEV and EPSS Data**: We also load the CISA KEV data and EPSS scores from CSV files. The CISA KEV data provides information about vulnerabilities known to be exploited, and EPSS offers a probabilistic score indicating the likelihood of a vulnerability being exploited.\n",
    "\n",
    "3. **Data Mapping and Processing**:\n",
    "   - **CVE Identification**: Extract the CVE (Common Vulnerabilities and Exposures) identifiers from the MSRC data.\n",
    "   - **CVSS Scores**: Gather all CVSS (Common Vulnerability Scoring System) scores provided for each vulnerability and determine the maximum score to gauge the severity.\n",
    "   - **CISA and EPSS Integration**: Check if each CVE from MSRC is listed in the CISA KEV and retrieve the corresponding EPSS score if available.\n",
    "   - **Threat Categorization**: Using a predefined mapping, categorize each threat associated with a vulnerability based on its type (Impact, Severity, Exploit Status).\n",
    "\n",
    "4. **Compile Combined Data**:\n",
    "   - An integrated list is compiled for each vulnerability, including its CVE identifier, title, maximum CVSS score, presence in CISA KEV, EPSS score, product details, and threat categorization.\n",
    "\n",
    "5. **Create a DataFrame**: The collected data is structured into a pandas DataFrame. This DataFrame serves as a structured repository of combined data that can be easily analyzed and manipulated.\n",
    "\n",
    "6. **Save the Processed Data**: Finally, the DataFrame is saved to a CSV file in the `processed` directory, making it accessible for further analysis or reporting.\n",
    "\n",
    "This integrated approach not only enhances our ability to analyze the data effectively but also supports more informed decision-making regarding vulnerability management and response strategies."
   ]
  },
  {
   "cell_type": "code",
   "id": "2e68d01794a87e2d",
   "metadata": {
    "ExecuteTime": {
     "end_time": "2024-06-26T10:16:10.221360Z",
     "start_time": "2024-06-26T10:16:10.088981Z"
    }
   },
   "source": [
    "# Load the MSRC JSON data\n",
    "with open('../../data/patch_tuesday/raw/msrc.json', 'r') as file:\n",
    "    msrc_json = json.load(file)\n",
    "\n",
    "# Load CSV data for CISA KEV and EPSS\n",
    "cisa_kev_msrc = pd.read_csv('../../data/patch_tuesday/raw/cisa_kev.csv')\n",
    "epss = pd.read_csv('../../data/patch_tuesday/raw/epss.csv')\n",
    "\n",
    "msrc_kev_epss_data = []\n",
    "\n",
    "threat_type_mapping = {\n",
    "    0: 'Impact',\n",
    "    3: 'Severity',\n",
    "    1: 'Exploit Status'\n",
    "}\n",
    "\n",
    "vulnerabilities = msrc_json.get('Vulnerability', [])\n",
    "\n",
    "for vulnerability in vulnerabilities:\n",
    "    cve = vulnerability.get(\"CVE\", \"\")\n",
    "    title = vulnerability.get(\"Title\").get(\"Value\", \"\")\n",
    "    cvss_scores = [cvss.get(\"BaseScore\", \"\") for cvss in vulnerability.get(\"CVSSScoreSets\", [])]\n",
    "    if cvss_scores:\n",
    "        cvss_score = max(cvss_scores)\n",
    "    else:\n",
    "        cvss_score = None\n",
    "    cisa_kev = cve in cisa_kev_msrc[\"cveID\"].values\n",
    "\n",
    "    epss_score = epss.loc[epss['cve'] == cve, 'epss'].values[0] if cve in epss['cve'].values else None\n",
    "\n",
    "    threats = {}\n",
    "    for threat in vulnerability.get(\"Threats\", []):\n",
    "        threat_type = threat_type_mapping.get(threat.get(\"Type\", 0), \"\")\n",
    "        threat_value = threat.get(\"Description\").get(\"Value\", \"\")\n",
    "        threats.update({threat_type: threat_value})\n",
    "\n",
    "    impact = threats.get('Impact', \"\")\n",
    "    severity = threats.get('Severity', \"\")\n",
    "    exploit_status = threats.get('Exploit Status', \"\")\n",
    "\n",
    "    product = next((note.get(\"Value\", \"\") for note in vulnerability.get(\"Notes\", []) if note.get(\"Type\") == 7), \"\")\n",
    "\n",
    "    msrc_kev_epss_data.append([cve, title, cvss_score, cisa_kev, epss_score, product, impact, severity, exploit_status])\n",
    "\n",
    "# Create a DataFrame from the data\n",
    "msrc_epss_kev = pd.DataFrame(msrc_kev_epss_data,\n",
    "                             columns=[\"CVE\", \"Title\", \"Max CVSS\", \"CISA KEV\", \"EPSS\", \"Product\", \"Impact\", \"Severity\",\n",
    "                                      \"Exploit Status\"])\n",
    "\n",
    "# Save to CSV\n",
    "msrc_epss_kev.to_csv(\"../../data/patch_tuesday/processed/msrc_epss_kev.csv\", index=False)"
   ],
   "outputs": [],
   "execution_count": 2
  }
 ],
 "metadata": {
  "kernelspec": {
   "display_name": "Python 3",
   "language": "python",
   "name": "python3"
  },
  "language_info": {
   "codemirror_mode": {
    "name": "ipython",
    "version": 2
   },
   "file_extension": ".py",
   "mimetype": "text/x-python",
   "name": "python",
   "nbconvert_exporter": "python",
   "pygments_lexer": "ipython2",
   "version": "2.7.6"
  }
 },
 "nbformat": 4,
 "nbformat_minor": 5
}
