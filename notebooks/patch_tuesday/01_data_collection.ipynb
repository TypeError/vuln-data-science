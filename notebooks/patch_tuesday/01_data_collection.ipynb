{
 "cells": [
  {
   "cell_type": "markdown",
   "id": "694d3d70469bb602",
   "metadata": {},
   "source": [
    "# Patch Tuesday - Data Collection"
   ]
  },
  {
   "metadata": {
    "ExecuteTime": {
     "end_time": "2024-08-25T09:36:34.724912Z",
     "start_time": "2024-08-25T09:36:34.720146Z"
    }
   },
   "cell_type": "code",
   "source": [
    "import json\n",
    "import os\n",
    "from datetime import datetime\n",
    "\n",
    "import pandas as pd\n",
    "import requests"
   ],
   "id": "f0ea410ba01c8838",
   "outputs": [],
   "execution_count": 10
  },
  {
   "metadata": {},
   "cell_type": "markdown",
   "source": [
    "## Project Setup\n",
    "\n",
    "Before proceeding with data collection, we need to ensure that the necessary directories for storing raw and processed data are in place. This step is crucial to maintain an organized structure for our project, especially when working with multiple datasets over time.\n",
    "\n",
    "The following Python code will check if the required directories exist (`raw` and `processed` under `patch_tuesday`), and if not, it will create them. This approach ensures that the environment is always correctly set up before any data processing begins, even if you're running this notebook on a new machine or a fresh clone of the repository.\n"
   ],
   "id": "f67300782f9b0953"
  },
  {
   "metadata": {
    "ExecuteTime": {
     "end_time": "2024-08-25T09:36:48.871773Z",
     "start_time": "2024-08-25T09:36:48.864691Z"
    }
   },
   "cell_type": "code",
   "source": [
    "# Directories to create\n",
    "dirs = [\n",
    "    \"../../data/patch_tuesday/raw/\",\n",
    "    \"../../data/patch_tuesday/processed/\",\n",
    "]\n",
    "\n",
    "# Create Patch Tuesday data directories if they don't exist\n",
    "for d in dirs:\n",
    "    os.makedirs(d, exist_ok=True)"
   ],
   "id": "99e5bc4542e6d1d7",
   "outputs": [
    {
     "name": "stdout",
     "output_type": "stream",
     "text": [
      "../../data/patch_tuesday/raw/\n",
      "../../data/patch_tuesday/processed/\n"
     ]
    }
   ],
   "execution_count": 15
  },
  {
   "cell_type": "markdown",
   "id": "8656d56c321c5758",
   "metadata": {},
   "source": [
    "## Fetching and Storing Microsoft Security Updates\n",
    "\n",
    "This section of the notebook is dedicated to retrieving the latest security updates from the Microsoft Security Response Center (MSRC) API ([https://msrc.microsoft.com/update-guide/](https://msrc.microsoft.com/update-guide/)). \n",
    "\n",
    "The process is outlined in the following steps:\n",
    "\n",
    "1. **Fetch Updates List**: We begin by making a GET request to the MSRC API to fetch a list of recent updates. This list contains various details, including URLs to the detailed Common Vulnerability Reporting Framework (CVRF) documents for each update.\n",
    "\n",
    "2. **Extract Latest Update URL**: From the fetched updates, we extract the URL of the most recent CVRF document, which provides detailed information about the vulnerabilities addressed in the latest Patch Tuesday.\n",
    "\n",
    "3. **Retrieve CVRF Details**: Using the URL obtained in the previous step, another GET request is made to download the complete CVRF document that includes detailed descriptions of each vulnerability.\n",
    "\n",
    "4. **Parse CVE Identifiers**: We extract CVE identifiers from the CVRF document to list all the vulnerabilities covered in the latest update.\n",
    "\n",
    "5. **Store JSON Data**: Finally, the entire CVRF JSON data is saved to a local file. This file is stored in the `../../data/raw` directory, allowing us to reference this data later for analysis without needing to re-fetch it from the API.\n",
    "\n",
    "By automating the collection and storage of this data, we streamline the process of analyzing the latest security vulnerabilities released on Patch Tuesday, facilitating quicker and more informed security responses."
   ]
  },
  {
   "cell_type": "code",
   "id": "initial_id",
   "metadata": {
    "ExecuteTime": {
     "end_time": "2024-08-25T09:36:38.047919Z",
     "start_time": "2024-08-25T09:36:35.198611Z"
    }
   },
   "source": [
    "# Get Microsoft security updates from MSRC API\n",
    "updates = requests.get(\n",
    "    \"https://api.msrc.microsoft.com/cvrf/v3.0/updates\",\n",
    "    headers={\"Accept\": \"application/json\"},\n",
    ")\n",
    "\n",
    "sorted_updates = sorted(\n",
    "    updates.json()[\"value\"],\n",
    "    key=lambda x: datetime.fromisoformat(\n",
    "        x[\"InitialReleaseDate\"].replace(\"Z\", \"+00:00\")\n",
    "    ),\n",
    ")\n",
    "\n",
    "latest_msrc_url = sorted_updates[-1][\"CvrfUrl\"]\n",
    "\n",
    "# Get current CVRF from MSRC API\n",
    "msrc_response = requests.get(latest_msrc_url, headers={\"Accept\": \"application/json\"})\n",
    "\n",
    "msrc_json = msrc_response.json()\n",
    "\n",
    "cves = list(set([x[\"CVE\"] for x in msrc_json[\"Vulnerability\"]]))\n",
    "\n",
    "with open(\"../../data/patch_tuesday/raw/msrc.json\", \"w\") as file:\n",
    "    json.dump(msrc_json, file, indent=2)"
   ],
   "outputs": [],
   "execution_count": 12
  },
  {
   "cell_type": "markdown",
   "id": "676b04bd71a1a4d2",
   "metadata": {},
   "source": [
    "## Fetching EPSS Scores for CVEs from MSRC Updates\n",
    "\n",
    "This section of the notebook focuses on retrieving the Exploit Prediction Scoring System (EPSS) scores for CVEs associated with the latest Microsoft Security Response Center (MSRC) updates. \n",
    "\n",
    "The steps for this process are outlined below:\n",
    "\n",
    "1. **Divide CVEs into Chunks**: Given the potential limitations on URL length or API request size, the list of CVE identifiers is split into three smaller chunks. This division ensures that we can query the API without exceeding URL length restrictions.\n",
    "\n",
    "2. **Initialize Storage List**: A list called `epss_list` is initialized to store the data fetched in batches.\n",
    "\n",
    "3. **Fetch EPSS Data**: For each chunk of CVEs, a URL is constructed to request their EPSS scores in CSV format from the FIRST.org API. The data from each request is read directly into a pandas DataFrame, which is then appended to the `epss_list`.\n",
    "\n",
    "4. **Concatenate DataFrames**: After all chunks are processed, the individual DataFrames stored in `epss_list` are concatenated into a single DataFrame. This consolidated DataFrame, `epss`, contains all the EPSS scores for the CVEs.\n",
    "\n",
    "5. **Save Data to CSV**: The final DataFrame is saved to a CSV file in the `../../data/raw/` directory. This approach ensures that the EPSS data is easily accessible for further analysis and does not require re-fetching from the API.\n",
    "\n",
    "By automating the retrieval and storage of EPSS data, we enhance our ability to quickly analyze the exploitability of newly reported vulnerabilities and prioritize responses accordingly.\n",
    "\n",
    "See EPSS at [https://www.first.org/epss](https://www.first.org/epss)."
   ]
  },
  {
   "cell_type": "code",
   "id": "270f016748b5f82f",
   "metadata": {
    "ExecuteTime": {
     "end_time": "2024-08-25T09:36:38.913095Z",
     "start_time": "2024-08-25T09:36:38.055466Z"
    }
   },
   "source": [
    "# Get latest EPSS data from First.org for MSRC CVEs\n",
    "cve_chunk = len(cves) // 3\n",
    "cve_chunks = [cves[i: i + cve_chunk] for i in range(0, len(cves), cve_chunk)]\n",
    "\n",
    "epss_list = []\n",
    "\n",
    "for chunk in cve_chunks:\n",
    "    epss_url = f\"https://api.first.org/data/v1/epss.csv?cve={','.join(chunk)}\"\n",
    "    epss_data = pd.read_csv(epss_url)\n",
    "    epss_list.append(epss_data)\n",
    "\n",
    "epss = pd.concat(epss_list)\n",
    "\n",
    "# Save to CSV\n",
    "epss.to_csv(\"../../data/patch_tuesday/raw/epss.csv\", index=False)"
   ],
   "outputs": [],
   "execution_count": 13
  },
  {
   "cell_type": "markdown",
   "id": "fd7dcb7b25660549",
   "metadata": {},
   "source": []
  },
  {
   "cell_type": "markdown",
   "id": "4bb314abe3fe08a4",
   "metadata": {},
   "source": [
    "## Retrieving and Processing CISA Known Exploited Vulnerabilities Data\n",
    "\n",
    "This section of the notebook is dedicated to acquiring and refining the data from CISA's Known Exploited Vulnerabilities (KEV) ([https://www.cisa.gov/known-exploited-vulnerabilities-catalog](https://www.cisa.gov/known-exploited-vulnerabilities-catalog)) repository. \n",
    "\n",
    "The code performs the following operations:\n",
    "\n",
    "1. **Fetch KEV Data**: We begin by downloading the latest KEV data directly from CISA's official website. This dataset is publicly available and is regularly updated to reflect the most current list of vulnerabilities known to be exploited.\n",
    "\n",
    "2. **Filter for MSRC CVEs**: The fetched data is then filtered to retain only those CVEs (Common Vulnerabilities and Exposures) that are relevant to our previously fetched MSRC (Microsoft Security Response Center) CVE list. This step ensures that our analysis focuses only on vulnerabilities that intersect with Microsoft's updates.\n",
    "\n",
    "3. **Save Filtered Data**: The filtered dataset is saved to a CSV file in the `../../data/raw/` directory. Storing this data locally allows us to access and analyze it more efficiently in subsequent steps without repeated downloads.\n",
    "\n",
    "By integrating CISA's KEV data into our analysis, we enhance our understanding of the security landscape, particularly regarding vulnerabilities that have been actively exploited in the wild. This information is crucial for prioritizing patches and mitigating risks associated with known threats."
   ]
  },
  {
   "cell_type": "code",
   "id": "f23ae03a4d54df22",
   "metadata": {
    "ExecuteTime": {
     "end_time": "2024-08-25T09:36:39.264393Z",
     "start_time": "2024-08-25T09:36:38.940137Z"
    }
   },
   "source": [
    "# Get CISA KEV (Known Exploited Vulnerabilities) data\n",
    "cisa_kev = pd.read_csv(\n",
    "    \"https://www.cisa.gov/sites/default/files/csv/known_exploited_vulnerabilities.csv\"\n",
    ")\n",
    "\n",
    "# Filter CISA KEV data for MSRC CVEs\n",
    "cisa_kev_msrc = cisa_kev[cisa_kev[\"cveID\"].isin(cves)]\n",
    "\n",
    "# Save to CSV\n",
    "cisa_kev_msrc.to_csv(\"../../data/patch_tuesday/raw/cisa_kev.csv\", index=False)"
   ],
   "outputs": [],
   "execution_count": 14
  }
 ],
 "metadata": {
  "kernelspec": {
   "display_name": "Python 3",
   "language": "python",
   "name": "python3"
  },
  "language_info": {
   "codemirror_mode": {
    "name": "ipython",
    "version": 2
   },
   "file_extension": ".py",
   "mimetype": "text/x-python",
   "name": "python",
   "nbconvert_exporter": "python",
   "pygments_lexer": "ipython2",
   "version": "2.7.6"
  }
 },
 "nbformat": 4,
 "nbformat_minor": 5
}
