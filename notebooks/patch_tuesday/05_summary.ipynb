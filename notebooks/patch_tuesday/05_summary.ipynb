{
 "cells": [
  {
   "metadata": {},
   "cell_type": "markdown",
   "source": "# Patch Tuesday - Vulnerability Analysis",
   "id": "5ebbe68c9743d228"
  },
  {
   "metadata": {
    "ExecuteTime": {
     "end_time": "2024-08-25T09:38:26.988159Z",
     "start_time": "2024-08-25T09:38:26.984625Z"
    }
   },
   "cell_type": "code",
   "source": [
    "import pandas as pd\n",
    "from IPython.display import Markdown, display"
   ],
   "id": "3f9fef7fce537094",
   "outputs": [],
   "execution_count": 11
  },
  {
   "metadata": {
    "ExecuteTime": {
     "end_time": "2024-08-25T09:38:27.106455Z",
     "start_time": "2024-08-25T09:38:27.036855Z"
    }
   },
   "cell_type": "code",
   "source": [
    "# Read CSV into a Pandas DataFrame\n",
    "patch_tuesday_df = pd.read_csv(\"../../data/patch_tuesday/processed/patch_tuesday_prioritized.csv\")\n",
    "\n",
    "\n",
    "# Function to display Markdown text\n",
    "def print_md(text):\n",
    "    display(Markdown(text))\n",
    "\n",
    "\n",
    "# Data Extraction\n",
    "# Total CVEs\n",
    "total_cves = patch_tuesday_df[\"CVE\"].nunique()\n",
    "\n",
    "# Severity Distribution\n",
    "severity_counts = patch_tuesday_df[\"Severity\"].value_counts().to_dict()\n",
    "\n",
    "# Affected Products\n",
    "total_products_affected = patch_tuesday_df[\"Product\"].nunique()\n",
    "top_affected_products = patch_tuesday_df[\"Product\"].value_counts().head(3).to_dict()\n",
    "\n",
    "# Top 5 Prioritized Vulnerabilities\n",
    "top_5_vulnerabilities = (\n",
    "    patch_tuesday_df.sort_values(by=\"CVSS\", ascending=False)\n",
    "    .head(5)[[\"CVE\", \"CVSS\", \"EPSS\"]]\n",
    "    .to_dict(orient=\"records\")\n",
    ")\n",
    "\n",
    "# Impact\n",
    "impact_factors = (\n",
    "    patch_tuesday_df[\"Impact\"].value_counts(normalize=True).mul(100).round(1).to_dict()\n",
    ")\n",
    "\n",
    "# Display Summary\n",
    "print_md(\"# Patch Tuesday Summary\\n\")\n",
    "\n",
    "print_md(\n",
    "    \"## Overview\\nThis summary provides an overview of the key findings from the latest Patch Tuesday updates, including the total count of CVEs, severity distribution, affected products, top prioritized vulnerabilities, and impact.\\n\"\n",
    ")\n",
    "\n",
    "# Count of CVEs\n",
    "print_md(\"## Count of CVEs\\n\")\n",
    "print_md(f\"- **Total CVEs**: {total_cves}\\n\")\n",
    "\n",
    "# Severity Distribution\n",
    "print_md(\"## Severity Distribution\\n\")\n",
    "for severity, count in severity_counts.items():\n",
    "    print_md(f\"- **{severity}**: {count}\")\n",
    "\n",
    "# Affected Products\n",
    "print_md(\"\\n## Affected Products\\n\")\n",
    "print_md(f\"- **Total Products Affected**: {total_products_affected}\\n\")\n",
    "print_md(\"- **Top Affected Products**:\")\n",
    "for product, count in top_affected_products.items():\n",
    "    print_md(f\" - {product}: {count} vulnerabilities\")\n",
    "\n",
    "# Top 5 Prioritized Vulnerabilities\n",
    "print_md(\"\\n## Top 5 Prioritized Vulnerabilities\\n\")\n",
    "for vuln in top_5_vulnerabilities:\n",
    "    print_md(\n",
    "        f\"1. **{vuln['CVE']}**\\n   - **CVSS Score**: {vuln['CVSS']}\\n   - **EPSS Score**: {vuln['EPSS']}\\n\"\n",
    "    )\n",
    "\n",
    "# Impact\n",
    "print_md(\"## Impact\\n\")\n",
    "for factor, percentage in impact_factors.items():\n",
    "    print_md(f\"- {factor}: {percentage}%\")"
   ],
   "id": "86235eac3a4dc0e0",
   "outputs": [
    {
     "data": {
      "text/plain": [
       "<IPython.core.display.Markdown object>"
      ],
      "text/markdown": "# Patch Tuesday Summary\n"
     },
     "metadata": {},
     "output_type": "display_data"
    },
    {
     "data": {
      "text/plain": [
       "<IPython.core.display.Markdown object>"
      ],
      "text/markdown": "## Overview\nThis summary provides an overview of the key findings from the latest Patch Tuesday updates, including the total count of CVEs, severity distribution, affected products, top prioritized vulnerabilities, and impact.\n"
     },
     "metadata": {},
     "output_type": "display_data"
    },
    {
     "data": {
      "text/plain": [
       "<IPython.core.display.Markdown object>"
      ],
      "text/markdown": "## Count of CVEs\n"
     },
     "metadata": {},
     "output_type": "display_data"
    },
    {
     "data": {
      "text/plain": [
       "<IPython.core.display.Markdown object>"
      ],
      "text/markdown": "- **Total CVEs**: 375\n"
     },
     "metadata": {},
     "output_type": "display_data"
    },
    {
     "data": {
      "text/plain": [
       "<IPython.core.display.Markdown object>"
      ],
      "text/markdown": "## Severity Distribution\n"
     },
     "metadata": {},
     "output_type": "display_data"
    },
    {
     "data": {
      "text/plain": [
       "<IPython.core.display.Markdown object>"
      ],
      "text/markdown": "- **Important**: 83"
     },
     "metadata": {},
     "output_type": "display_data"
    },
    {
     "data": {
      "text/plain": [
       "<IPython.core.display.Markdown object>"
      ],
      "text/markdown": "- **Critical**: 10"
     },
     "metadata": {},
     "output_type": "display_data"
    },
    {
     "data": {
      "text/plain": [
       "<IPython.core.display.Markdown object>"
      ],
      "text/markdown": "- **Moderate**: 6"
     },
     "metadata": {},
     "output_type": "display_data"
    },
    {
     "data": {
      "text/plain": [
       "<IPython.core.display.Markdown object>"
      ],
      "text/markdown": "\n## Affected Products\n"
     },
     "metadata": {},
     "output_type": "display_data"
    },
    {
     "data": {
      "text/plain": [
       "<IPython.core.display.Markdown object>"
      ],
      "text/markdown": "- **Total Products Affected**: 61\n"
     },
     "metadata": {},
     "output_type": "display_data"
    },
    {
     "data": {
      "text/plain": [
       "<IPython.core.display.Markdown object>"
      ],
      "text/markdown": "- **Top Affected Products**:"
     },
     "metadata": {},
     "output_type": "display_data"
    },
    {
     "data": {
      "text/plain": [
       "<IPython.core.display.Markdown object>"
      ],
      "text/markdown": " - Mariner: 246 vulnerabilities"
     },
     "metadata": {},
     "output_type": "display_data"
    },
    {
     "data": {
      "text/plain": [
       "<IPython.core.display.Markdown object>"
      ],
      "text/markdown": " - Microsoft Edge (Chromium-based): 35 vulnerabilities"
     },
     "metadata": {},
     "output_type": "display_data"
    },
    {
     "data": {
      "text/plain": [
       "<IPython.core.display.Markdown object>"
      ],
      "text/markdown": " - Windows Routing and Remote Access Service (RRAS): 6 vulnerabilities"
     },
     "metadata": {},
     "output_type": "display_data"
    },
    {
     "data": {
      "text/plain": [
       "<IPython.core.display.Markdown object>"
      ],
      "text/markdown": "\n## Top 5 Prioritized Vulnerabilities\n"
     },
     "metadata": {},
     "output_type": "display_data"
    },
    {
     "data": {
      "text/plain": [
       "<IPython.core.display.Markdown object>"
      ],
      "text/markdown": "1. **CVE-2022-36648**\n   - **CVSS Score**: 10.0\n   - **EPSS Score**: nan\n"
     },
     "metadata": {},
     "output_type": "display_data"
    },
    {
     "data": {
      "text/plain": [
       "<IPython.core.display.Markdown object>"
      ],
      "text/markdown": "1. **CVE-2024-41110**\n   - **CVSS Score**: 9.9\n   - **EPSS Score**: 0.00045\n"
     },
     "metadata": {},
     "output_type": "display_data"
    },
    {
     "data": {
      "text/plain": [
       "<IPython.core.display.Markdown object>"
      ],
      "text/markdown": "1. **CVE-2023-29402**\n   - **CVSS Score**: 9.8\n   - **EPSS Score**: nan\n"
     },
     "metadata": {},
     "output_type": "display_data"
    },
    {
     "data": {
      "text/plain": [
       "<IPython.core.display.Markdown object>"
      ],
      "text/markdown": "1. **CVE-2023-29404**\n   - **CVSS Score**: 9.8\n   - **EPSS Score**: nan\n"
     },
     "metadata": {},
     "output_type": "display_data"
    },
    {
     "data": {
      "text/plain": [
       "<IPython.core.display.Markdown object>"
      ],
      "text/markdown": "1. **CVE-2023-49569**\n   - **CVSS Score**: 9.8\n   - **EPSS Score**: nan\n"
     },
     "metadata": {},
     "output_type": "display_data"
    },
    {
     "data": {
      "text/plain": [
       "<IPython.core.display.Markdown object>"
      ],
      "text/markdown": "## Impact\n"
     },
     "metadata": {},
     "output_type": "display_data"
    },
    {
     "data": {
      "text/plain": [
       "<IPython.core.display.Markdown object>"
      ],
      "text/markdown": "- Elevation of Privilege: 39.4%"
     },
     "metadata": {},
     "output_type": "display_data"
    },
    {
     "data": {
      "text/plain": [
       "<IPython.core.display.Markdown object>"
      ],
      "text/markdown": "- Remote Code Execution: 33.3%"
     },
     "metadata": {},
     "output_type": "display_data"
    },
    {
     "data": {
      "text/plain": [
       "<IPython.core.display.Markdown object>"
      ],
      "text/markdown": "- Spoofing: 8.1%"
     },
     "metadata": {},
     "output_type": "display_data"
    },
    {
     "data": {
      "text/plain": [
       "<IPython.core.display.Markdown object>"
      ],
      "text/markdown": "- Information Disclosure: 8.1%"
     },
     "metadata": {},
     "output_type": "display_data"
    },
    {
     "data": {
      "text/plain": [
       "<IPython.core.display.Markdown object>"
      ],
      "text/markdown": "- Denial of Service: 6.1%"
     },
     "metadata": {},
     "output_type": "display_data"
    },
    {
     "data": {
      "text/plain": [
       "<IPython.core.display.Markdown object>"
      ],
      "text/markdown": "- Security Feature Bypass: 4.0%"
     },
     "metadata": {},
     "output_type": "display_data"
    },
    {
     "data": {
      "text/plain": [
       "<IPython.core.display.Markdown object>"
      ],
      "text/markdown": "- Tampering: 1.0%"
     },
     "metadata": {},
     "output_type": "display_data"
    }
   ],
   "execution_count": 12
  }
 ],
 "metadata": {
  "kernelspec": {
   "display_name": "Python 3",
   "language": "python",
   "name": "python3"
  },
  "language_info": {
   "codemirror_mode": {
    "name": "ipython",
    "version": 2
   },
   "file_extension": ".py",
   "mimetype": "text/x-python",
   "name": "python",
   "nbconvert_exporter": "python",
   "pygments_lexer": "ipython2",
   "version": "2.7.6"
  }
 },
 "nbformat": 4,
 "nbformat_minor": 5
}
