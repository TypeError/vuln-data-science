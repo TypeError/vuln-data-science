{
 "cells": [
  {
   "metadata": {},
   "cell_type": "markdown",
   "source": "# Patch Tuesday - Vulnerability Summary",
   "id": "5ebbe68c9743d228"
  },
  {
   "metadata": {
    "ExecuteTime": {
     "end_time": "2024-09-15T09:45:25.168971Z",
     "start_time": "2024-09-15T09:45:25.165251Z"
    }
   },
   "cell_type": "code",
   "source": [
    "import pandas as pd\n",
    "from IPython.display import Markdown, display"
   ],
   "id": "3f9fef7fce537094",
   "outputs": [],
   "execution_count": 30
  },
  {
   "metadata": {},
   "cell_type": "markdown",
   "source": "## Read CSV into a Pandas DataFrame\n",
   "id": "3652b2eafd6d8eab"
  },
  {
   "metadata": {
    "ExecuteTime": {
     "end_time": "2024-09-15T09:45:25.210629Z",
     "start_time": "2024-09-15T09:45:25.200483Z"
    }
   },
   "cell_type": "code",
   "source": "patch_tuesday_df = pd.read_csv(\"../../data/patch_tuesday/processed/patch_tuesday_prioritized.csv\")",
   "id": "f6fab73e337cd2d9",
   "outputs": [],
   "execution_count": 31
  },
  {
   "metadata": {},
   "cell_type": "markdown",
   "source": "## Summary of the Latest Patch Tuesday Security Updates",
   "id": "9d0f097e0d80cc9b"
  },
  {
   "metadata": {
    "ExecuteTime": {
     "end_time": "2024-09-15T09:45:35.480225Z",
     "start_time": "2024-09-15T09:45:35.373063Z"
    }
   },
   "cell_type": "code",
   "source": [
    "# Function to display Markdown text\n",
    "def print_md(text):\n",
    "    display(Markdown(text))\n",
    "\n",
    "\n",
    "# Data Extraction\n",
    "\n",
    "# Total CVEs\n",
    "total_cves = patch_tuesday_df[\"CVE\"].nunique()\n",
    "\n",
    "# Severity Distribution with percentages\n",
    "severity_counts = patch_tuesday_df[\"Severity\"].value_counts()\n",
    "severity_percentages = patch_tuesday_df[\"Severity\"].value_counts(normalize=True).mul(100).round(1)\n",
    "severity_dict = severity_counts.to_dict()\n",
    "severity_percentage_dict = severity_percentages.to_dict()\n",
    "\n",
    "# Affected Products\n",
    "total_products_affected = patch_tuesday_df[\"Product\"].nunique()\n",
    "\n",
    "# For percentages, calculate the percentage of total vulnerabilities each product represents\n",
    "product_counts = patch_tuesday_df[\"Product\"].value_counts()\n",
    "top_affected_products_counts = product_counts.head(3)\n",
    "total_vulnerabilities = patch_tuesday_df.shape[0]\n",
    "top_affected_products_percentages = top_affected_products_counts.div(total_vulnerabilities).mul(100).round(1).to_dict()\n",
    "\n",
    "# Top 5 Prioritized Vulnerabilities based on CVSS and EPSS\n",
    "top_5_vulnerabilities = (\n",
    "    patch_tuesday_df.sort_values(by=[\"CVSS\", \"EPSS\"], ascending=[False, False])\n",
    "    .head(5)[[\"CVE\", \"CVSS\", \"EPSS\", \"Title\"]]\n",
    "    .to_dict(orient=\"records\")\n",
    ")\n",
    "\n",
    "# Impact Analysis with percentages\n",
    "impact_counts = patch_tuesday_df[\"Impact\"].value_counts()\n",
    "impact_percentages = patch_tuesday_df[\"Impact\"].value_counts(normalize=True).mul(100).round(1)\n",
    "impact_dict = impact_counts.to_dict()\n",
    "impact_percentage_dict = impact_percentages.to_dict()\n",
    "\n",
    "# Display Summary\n",
    "print_md(\"**Patch Tuesday Summary: Key Highlights from the Latest Security Updates**\\n\")\n",
    "\n",
    "# Overview\n",
    "print_md(\"**🔍 Overview**\\n\")\n",
    "print_md(\n",
    "    f\"- **Total Vulnerabilities Addressed**: {total_cves} CVEs have been patched.\")\n",
    "print_md(\"- **Severity Breakdown**:\")\n",
    "for severity in [\"Critical\", \"Important\", \"Moderate\", \"Low\"]:\n",
    "    count = severity_dict.get(severity, 0)\n",
    "    percentage = severity_percentage_dict.get(severity, 0.0)\n",
    "    if count > 0:\n",
    "        print_md(f\"  - **{severity}**: {count} vulnerabilities ({percentage:.0f}%)\")\n",
    "\n",
    "# Affected Products\n",
    "print_md(\"\\n**🛠️ Affected Products**\\n\")\n",
    "print_md(\n",
    "    f\"- {total_products_affected} products are affected.\")\n",
    "print_md(\"- **Top Affected Products**:\")\n",
    "for product in top_affected_products_counts.index:\n",
    "    count = top_affected_products_counts[product]\n",
    "    percentage = top_affected_products_percentages[product]\n",
    "    print_md(f\"  - **{product}**: {count} vulnerabilities ({percentage:.0f}%)\")\n",
    "\n",
    "# Top 5 Prioritized Vulnerabilities\n",
    "print_md(\"\\n**🚨 Top Prioritized Vulnerabilities**\\n\")\n",
    "for idx, vuln in enumerate(top_5_vulnerabilities, 1):\n",
    "    cvss_score = vuln['CVSS']\n",
    "    epss_score = vuln['EPSS']\n",
    "\n",
    "    # Interpret EPSS score\n",
    "    if epss_score >= 0.7:\n",
    "        epss_risk = \"Elevated risk of exploitation\"\n",
    "    elif epss_score >= 0.3:\n",
    "        epss_risk = \"Notable risk\"\n",
    "    else:\n",
    "        epss_risk = \"Lower risk\"\n",
    "    # Interpret CVSS score\n",
    "    if cvss_score >= 9.0:\n",
    "        cvss_rating = \"Critical\"\n",
    "    elif cvss_score >= 7.0:\n",
    "        cvss_rating = \"High\"\n",
    "    elif cvss_score >= 4.0:\n",
    "        cvss_rating = \"Moderate\"\n",
    "    else:\n",
    "        cvss_rating = \"Low\"\n",
    "    print_md(f\"{idx}. **{vuln['CVE']}**\")\n",
    "    if pd.notna(vuln['Title']):\n",
    "        print_md(f\"   - *Title*: {vuln[\"Title\"]}\")\n",
    "\n",
    "    print_md(f\"   - *CVSS Score*: {cvss_score} ({cvss_rating})\")\n",
    "    if pd.notna(vuln['EPSS']):\n",
    "        print_md(f\"   - *EPSS Score*: {epss_score} ({epss_risk})\")\n",
    "\n",
    "# Impact Analysis\n",
    "print_md(\"\\n**💥 Impact Analysis**\\n\")\n",
    "for impact, count in impact_dict.items():\n",
    "    percentage = impact_percentage_dict[impact]\n",
    "    print_md(f\"- **{impact}**: {count} vulnerabilities ({percentage:.0f}%)\")"
   ],
   "id": "86235eac3a4dc0e0",
   "outputs": [
    {
     "data": {
      "text/plain": [
       "<IPython.core.display.Markdown object>"
      ],
      "text/markdown": "**Patch Tuesday Summary: Key Highlights from the Latest Security Updates**\n"
     },
     "metadata": {},
     "output_type": "display_data"
    },
    {
     "data": {
      "text/plain": [
       "<IPython.core.display.Markdown object>"
      ],
      "text/markdown": "**🔍 Overview**\n"
     },
     "metadata": {},
     "output_type": "display_data"
    },
    {
     "data": {
      "text/plain": [
       "<IPython.core.display.Markdown object>"
      ],
      "text/markdown": "- **Total Vulnerabilities Addressed**: 375 CVEs have been patched."
     },
     "metadata": {},
     "output_type": "display_data"
    },
    {
     "data": {
      "text/plain": [
       "<IPython.core.display.Markdown object>"
      ],
      "text/markdown": "- **Severity Breakdown**:"
     },
     "metadata": {},
     "output_type": "display_data"
    },
    {
     "data": {
      "text/plain": [
       "<IPython.core.display.Markdown object>"
      ],
      "text/markdown": "  - **Critical**: 10 vulnerabilities (10%)"
     },
     "metadata": {},
     "output_type": "display_data"
    },
    {
     "data": {
      "text/plain": [
       "<IPython.core.display.Markdown object>"
      ],
      "text/markdown": "  - **Important**: 83 vulnerabilities (84%)"
     },
     "metadata": {},
     "output_type": "display_data"
    },
    {
     "data": {
      "text/plain": [
       "<IPython.core.display.Markdown object>"
      ],
      "text/markdown": "  - **Moderate**: 6 vulnerabilities (6%)"
     },
     "metadata": {},
     "output_type": "display_data"
    },
    {
     "data": {
      "text/plain": [
       "<IPython.core.display.Markdown object>"
      ],
      "text/markdown": "\n**🛠️ Affected Products**\n"
     },
     "metadata": {},
     "output_type": "display_data"
    },
    {
     "data": {
      "text/plain": [
       "<IPython.core.display.Markdown object>"
      ],
      "text/markdown": "- 61 products are affected."
     },
     "metadata": {},
     "output_type": "display_data"
    },
    {
     "data": {
      "text/plain": [
       "<IPython.core.display.Markdown object>"
      ],
      "text/markdown": "- **Top Affected Products**:"
     },
     "metadata": {},
     "output_type": "display_data"
    },
    {
     "data": {
      "text/plain": [
       "<IPython.core.display.Markdown object>"
      ],
      "text/markdown": "  - **Mariner**: 246 vulnerabilities (66%)"
     },
     "metadata": {},
     "output_type": "display_data"
    },
    {
     "data": {
      "text/plain": [
       "<IPython.core.display.Markdown object>"
      ],
      "text/markdown": "  - **Microsoft Edge (Chromium-based)**: 35 vulnerabilities (9%)"
     },
     "metadata": {},
     "output_type": "display_data"
    },
    {
     "data": {
      "text/plain": [
       "<IPython.core.display.Markdown object>"
      ],
      "text/markdown": "  - **Windows Routing and Remote Access Service (RRAS)**: 6 vulnerabilities (2%)"
     },
     "metadata": {},
     "output_type": "display_data"
    },
    {
     "data": {
      "text/plain": [
       "<IPython.core.display.Markdown object>"
      ],
      "text/markdown": "\n**🚨 Top Prioritized Vulnerabilities**\n"
     },
     "metadata": {},
     "output_type": "display_data"
    },
    {
     "data": {
      "text/plain": [
       "<IPython.core.display.Markdown object>"
      ],
      "text/markdown": "1. **CVE-2022-36648**"
     },
     "metadata": {},
     "output_type": "display_data"
    },
    {
     "data": {
      "text/plain": [
       "<IPython.core.display.Markdown object>"
      ],
      "text/markdown": "   - *CVSS Score*: 10.0 (Critical)"
     },
     "metadata": {},
     "output_type": "display_data"
    },
    {
     "data": {
      "text/plain": [
       "<IPython.core.display.Markdown object>"
      ],
      "text/markdown": "2. **CVE-2024-41110**"
     },
     "metadata": {},
     "output_type": "display_data"
    },
    {
     "data": {
      "text/plain": [
       "<IPython.core.display.Markdown object>"
      ],
      "text/markdown": "   - *CVSS Score*: 9.9 (Critical)"
     },
     "metadata": {},
     "output_type": "display_data"
    },
    {
     "data": {
      "text/plain": [
       "<IPython.core.display.Markdown object>"
      ],
      "text/markdown": "   - *EPSS Score*: 0.00045 (Lower risk)"
     },
     "metadata": {},
     "output_type": "display_data"
    },
    {
     "data": {
      "text/plain": [
       "<IPython.core.display.Markdown object>"
      ],
      "text/markdown": "3. **CVE-2024-42154**"
     },
     "metadata": {},
     "output_type": "display_data"
    },
    {
     "data": {
      "text/plain": [
       "<IPython.core.display.Markdown object>"
      ],
      "text/markdown": "   - *CVSS Score*: 9.8 (Critical)"
     },
     "metadata": {},
     "output_type": "display_data"
    },
    {
     "data": {
      "text/plain": [
       "<IPython.core.display.Markdown object>"
      ],
      "text/markdown": "   - *EPSS Score*: 0.00378 (Lower risk)"
     },
     "metadata": {},
     "output_type": "display_data"
    },
    {
     "data": {
      "text/plain": [
       "<IPython.core.display.Markdown object>"
      ],
      "text/markdown": "4. **CVE-2024-38199**"
     },
     "metadata": {},
     "output_type": "display_data"
    },
    {
     "data": {
      "text/plain": [
       "<IPython.core.display.Markdown object>"
      ],
      "text/markdown": "   - *Title*: Windows Line Printer Daemon (LPD) Service Remote Code Execution Vulnerability"
     },
     "metadata": {},
     "output_type": "display_data"
    },
    {
     "data": {
      "text/plain": [
       "<IPython.core.display.Markdown object>"
      ],
      "text/markdown": "   - *CVSS Score*: 9.8 (Critical)"
     },
     "metadata": {},
     "output_type": "display_data"
    },
    {
     "data": {
      "text/plain": [
       "<IPython.core.display.Markdown object>"
      ],
      "text/markdown": "   - *EPSS Score*: 0.00143 (Lower risk)"
     },
     "metadata": {},
     "output_type": "display_data"
    },
    {
     "data": {
      "text/plain": [
       "<IPython.core.display.Markdown object>"
      ],
      "text/markdown": "5. **CVE-2024-38140**"
     },
     "metadata": {},
     "output_type": "display_data"
    },
    {
     "data": {
      "text/plain": [
       "<IPython.core.display.Markdown object>"
      ],
      "text/markdown": "   - *Title*: Windows Reliable Multicast Transport Driver (RMCAST) Remote Code Execution Vulnerability"
     },
     "metadata": {},
     "output_type": "display_data"
    },
    {
     "data": {
      "text/plain": [
       "<IPython.core.display.Markdown object>"
      ],
      "text/markdown": "   - *CVSS Score*: 9.8 (Critical)"
     },
     "metadata": {},
     "output_type": "display_data"
    },
    {
     "data": {
      "text/plain": [
       "<IPython.core.display.Markdown object>"
      ],
      "text/markdown": "   - *EPSS Score*: 0.00143 (Lower risk)"
     },
     "metadata": {},
     "output_type": "display_data"
    },
    {
     "data": {
      "text/plain": [
       "<IPython.core.display.Markdown object>"
      ],
      "text/markdown": "\n**💥 Impact Analysis**\n"
     },
     "metadata": {},
     "output_type": "display_data"
    },
    {
     "data": {
      "text/plain": [
       "<IPython.core.display.Markdown object>"
      ],
      "text/markdown": "- **Elevation of Privilege**: 39 vulnerabilities (39%)"
     },
     "metadata": {},
     "output_type": "display_data"
    },
    {
     "data": {
      "text/plain": [
       "<IPython.core.display.Markdown object>"
      ],
      "text/markdown": "- **Remote Code Execution**: 33 vulnerabilities (33%)"
     },
     "metadata": {},
     "output_type": "display_data"
    },
    {
     "data": {
      "text/plain": [
       "<IPython.core.display.Markdown object>"
      ],
      "text/markdown": "- **Spoofing**: 8 vulnerabilities (8%)"
     },
     "metadata": {},
     "output_type": "display_data"
    },
    {
     "data": {
      "text/plain": [
       "<IPython.core.display.Markdown object>"
      ],
      "text/markdown": "- **Information Disclosure**: 8 vulnerabilities (8%)"
     },
     "metadata": {},
     "output_type": "display_data"
    },
    {
     "data": {
      "text/plain": [
       "<IPython.core.display.Markdown object>"
      ],
      "text/markdown": "- **Denial of Service**: 6 vulnerabilities (6%)"
     },
     "metadata": {},
     "output_type": "display_data"
    },
    {
     "data": {
      "text/plain": [
       "<IPython.core.display.Markdown object>"
      ],
      "text/markdown": "- **Security Feature Bypass**: 4 vulnerabilities (4%)"
     },
     "metadata": {},
     "output_type": "display_data"
    },
    {
     "data": {
      "text/plain": [
       "<IPython.core.display.Markdown object>"
      ],
      "text/markdown": "- **Tampering**: 1 vulnerabilities (1%)"
     },
     "metadata": {},
     "output_type": "display_data"
    }
   ],
   "execution_count": 33
  },
  {
   "metadata": {
    "ExecuteTime": {
     "end_time": "2024-09-15T09:45:25.594152Z",
     "start_time": "2024-09-15T09:45:25.589277Z"
    }
   },
   "cell_type": "code",
   "source": "",
   "id": "ebce92d395d6a17e",
   "outputs": [],
   "execution_count": null
  }
 ],
 "metadata": {
  "kernelspec": {
   "display_name": "Python 3",
   "language": "python",
   "name": "python3"
  },
  "language_info": {
   "codemirror_mode": {
    "name": "ipython",
    "version": 2
   },
   "file_extension": ".py",
   "mimetype": "text/x-python",
   "name": "python",
   "nbconvert_exporter": "python",
   "pygments_lexer": "ipython2",
   "version": "2.7.6"
  }
 },
 "nbformat": 4,
 "nbformat_minor": 5
}
