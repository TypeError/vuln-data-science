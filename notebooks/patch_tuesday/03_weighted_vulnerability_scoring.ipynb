{
 "cells": [
  {
   "metadata": {},
   "cell_type": "markdown",
   "source": "# Patch Tuesday - Vulnerability Prioritization",
   "id": "6d8f316649fa2e2c"
  },
  {
   "metadata": {
    "ExecuteTime": {
     "end_time": "2024-08-25T09:37:56.134038Z",
     "start_time": "2024-08-25T09:37:56.129702Z"
    }
   },
   "cell_type": "code",
   "source": [
    "import pandas as pd"
   ],
   "id": "e9089707f18aa47a",
   "outputs": [],
   "execution_count": 1
  },
  {
   "metadata": {},
   "cell_type": "markdown",
   "source": [
    "### Vulnerability Prioritization with Weighted Vulnerability Score (WVS)\n",
    "\n",
    "In this section, we will process the Patch Tuesday vulnerability data to calculate a Weighted Vulnerability Score (WVS) using various factors such as CVSS scores, EPSS scores, CISA KEV status, and more. The steps include normalizing specific fields, defining weights, calculating the WVS, and sorting the vulnerabilities based on their scores.\n",
    "\n",
    "1. **Load the Data**: Read the processed MSRC EPSS KEV CSV file.\n",
    "2. **Normalize Fields**: Use mappings to normalize the 'Publicly Disclosed', 'Exploited', and 'Latest Software Release' fields.\n",
    "3. **Define Weights**: Assign weights to each factor contributing to the overall vulnerability score.\n",
    "4. **Calculate WVS**: Compute the Weighted Vulnerability Score (WVS) by combining the normalized fields with their respective weights.\n",
    "5. **Sort and Save**: Sort the vulnerabilities based on the WVS and save the prioritized list to a new CSV file.\n",
    "\n",
    "#### Weighted Vulnerability Score\n",
    "\n",
    "The weights assigned to each factor reflect the relative importance of that factor in assessing the overall risk of a vulnerability. These weights are determined based on expert judgment, industry standards, and empirical evidence regarding which factors are most indicative of potential exploitation and impact. The weights used in this example are as follows:\n",
    "\n",
    "- **Max CVSS (0.30)**: The CVSS (Common Vulnerability Scoring System) score provides a standardized measure of the severity of a vulnerability. It is widely recognized and used in the industry, which justifies its high weight.\n",
    "- **EPSS (0.30)**: The Exploit Prediction Scoring System (EPSS) estimates the likelihood that a vulnerability will be exploited. Given its predictive value, it is weighted equally to the CVSS score.\n",
    "- **CISA KEV (0.20)**: The Cybersecurity and Infrastructure Security Agency (CISA) Known Exploited Vulnerabilities (KEV) catalog identifies vulnerabilities that are known to be actively exploited. This factor is crucial but slightly less weighted than CVSS and EPSS.\n",
    "- **Normalized_Publicly_Disclosed (0.10)**: Publicly disclosed vulnerabilities are known to potential attackers and defenders. Public disclosure increases the urgency for remediation, hence the weight.\n",
    "- **Normalized_Exploited (0.10)**: If a vulnerability is known to be exploited, it poses a significant risk, which justifies its inclusion in the weighted scoring model.\n",
    "- **Normalized_Latest_Software_Release (0.05)**: The likelihood of exploitation based on the latest software release provides additional context for prioritization but is considered less critical than other factors, hence its lower weight.\n",
    "\n",
    "Using a weighted scoring system helps prioritize vulnerabilities in a way that considers both their technical severity and the real-world context of their exploitation, leading to more informed and effective vulnerability management decisions."
   ],
   "id": "f576da0bf5331d73"
  },
  {
   "metadata": {
    "ExecuteTime": {
     "end_time": "2024-08-25T09:37:56.172350Z",
     "start_time": "2024-08-25T09:37:56.140458Z"
    }
   },
   "cell_type": "code",
   "source": [
    "# Opt-in to the future behavior\n",
    "pd.set_option(\"future.no_silent_downcasting\", True)\n",
    "\n",
    "# Load the CSV file\n",
    "msrc_epss_kev = pd.read_csv(\"../../data/patch_tuesday/processed/msrc_epss_kev.csv\")\n",
    "\n",
    "\n",
    "# Function to parse exploit status\n",
    "def parse_exploit_status(status):\n",
    "    components = status.split(\";\")\n",
    "    parsed_status = {}\n",
    "    for component in components:\n",
    "        key, value = component.split(\":\")\n",
    "        parsed_status[key.strip()] = value.strip()\n",
    "    return parsed_status\n",
    "\n",
    "\n",
    "# Mapping for normalization\n",
    "publicly_disclosed_mapping = {\"Yes\": 1, \"No\": 0}\n",
    "exploited_mapping = {\"Yes\": 1, \"No\": 0}\n",
    "latest_software_release_mapping = {\n",
    "    \"Exploitation Detected\": 1,\n",
    "    \"Exploitation More Likely\": 0.75,\n",
    "    \"Exploitation Less Likely\": 0.5,\n",
    "    \"Exploitation Unlikely\": 0.25,\n",
    "}\n",
    "\n",
    "# Normalize the parsed export status values using replace\n",
    "msrc_epss_kev[\"Normalized_Publicly_Disclosed\"] = (\n",
    "    msrc_epss_kev[\"Publicly_Disclosed\"]\n",
    "    .replace(publicly_disclosed_mapping)\n",
    "    .astype(float)\n",
    ")\n",
    "msrc_epss_kev[\"Normalized_Exploited\"] = (\n",
    "    msrc_epss_kev[\"Exploited\"].replace(exploited_mapping).astype(float)\n",
    ")\n",
    "msrc_epss_kev[\"Normalized_Latest_Software_Release\"] = (\n",
    "    msrc_epss_kev[\"Latest_Software_Release\"]\n",
    "    .replace(latest_software_release_mapping)\n",
    "    .astype(float)\n",
    ")\n",
    "\n",
    "# Define weights\n",
    "weights = {\n",
    "    \"CVSS\": 0.30,\n",
    "    \"EPSS\": 0.30,\n",
    "    \"CISA_KEV\": 0.20,\n",
    "    \"Normalized_Publicly_Disclosed\": 0.10,\n",
    "    \"Normalized_Exploited\": 0.10,\n",
    "    \"Normalized_Latest_Software_Release\": 0.05,\n",
    "}\n",
    "\n",
    "# Calculate Weighted Vulnerability Score (WVS) with inlined normalization\n",
    "msrc_epss_kev[\"Weighted_Vulnerability_Score\"] = (\n",
    "        (msrc_epss_kev[\"CVSS\"] / 10) * weights[\"CVSS\"]\n",
    "        + msrc_epss_kev[\"EPSS\"] * weights[\"EPSS\"]\n",
    "        + msrc_epss_kev[\"CISA_KEV\"].astype(float) * weights[\"CISA_KEV\"]\n",
    "        + msrc_epss_kev[\"Normalized_Publicly_Disclosed\"]\n",
    "        * weights[\"Normalized_Publicly_Disclosed\"]\n",
    "        + msrc_epss_kev[\"Normalized_Exploited\"] * weights[\"Normalized_Exploited\"]\n",
    "        + msrc_epss_kev[\"Normalized_Latest_Software_Release\"]\n",
    "        * weights[\"Normalized_Latest_Software_Release\"]\n",
    ")\n",
    "\n",
    "# Sort by total score\n",
    "prioritized_df = msrc_epss_kev.sort_values(\n",
    "    by=\"Weighted_Vulnerability_Score\", ascending=False, na_position=\"last\"\n",
    ")\n",
    "\n",
    "# Save to CSV\n",
    "prioritized_df.to_csv(\"../../data/patch_tuesday/processed/patch_tuesday_prioritized.csv\", index=False)"
   ],
   "id": "57a75ef259c4d9b7",
   "outputs": [],
   "execution_count": 2
  }
 ],
 "metadata": {
  "kernelspec": {
   "display_name": "Python 3",
   "language": "python",
   "name": "python3"
  },
  "language_info": {
   "codemirror_mode": {
    "name": "ipython",
    "version": 2
   },
   "file_extension": ".py",
   "mimetype": "text/x-python",
   "name": "python",
   "nbconvert_exporter": "python",
   "pygments_lexer": "ipython2",
   "version": "2.7.6"
  }
 },
 "nbformat": 4,
 "nbformat_minor": 5
}
