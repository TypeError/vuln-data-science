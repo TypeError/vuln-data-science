{
 "cells": [
  {
   "metadata": {},
   "cell_type": "markdown",
   "source": "# Weekly CVE - Data Cleaning",
   "id": "1b921cb1fb53aa42"
  },
  {
   "metadata": {
    "ExecuteTime": {
     "end_time": "2024-09-11T10:04:24.249819Z",
     "start_time": "2024-09-11T10:04:23.592255Z"
    }
   },
   "cell_type": "code",
   "source": [
    "import json\n",
    "\n",
    "import pandas as pd"
   ],
   "id": "871cf814b4861404",
   "outputs": [],
   "execution_count": 2
  },
  {
   "metadata": {},
   "cell_type": "markdown",
   "source": [
    "## Integrating NIST NVD and EPSS Data\n",
    "\n",
    "This script processes data from the [NIST National Vulnerability Database (NVD)](https://nvd.nist.gov), merges it with the [Exploit Prediction Scoring System (EPSS)](https://www.first.org/epss) dataset, and outputs a consolidated CSV file with the following key information for each vulnerability:\n",
    "- **CVE ID**: The unique identifier of the vulnerability.\n",
    "- **Description**: The English description of the vulnerability.\n",
    "- **CVSS Base Score & Severity**: The NIST CVSS v4.0 or v3.1 base score and severity, prioritizing metrics from NIST (`nvd@nist.gov`).\n",
    "- **CWE**: The primary weakness, sourced from NIST.\n",
    "- **Vendor & Product**: The vendor and product associated with the vulnerability (from CPE data).\n",
    "- **CISA KEV Status**: Indicates whether the vulnerability is flagged by CISA's Known Exploited Vulnerabilities (KEV) catalog.\n",
    "- **EPSS Score**: The EPSS score estimating the likelihood of exploitation.\n",
    "- **Vulnerability Status**: The status of the vulnerability (e.g., \"Awaiting Analysis\").\n",
    "\n",
    "The final data is saved to a CSV file for further analysis.\n"
   ],
   "id": "93ed0cf85de8d85d"
  },
  {
   "metadata": {
    "ExecuteTime": {
     "end_time": "2024-09-11T10:04:39.741355Z",
     "start_time": "2024-09-11T10:04:39.703190Z"
    }
   },
   "cell_type": "code",
   "source": [
    "# Load the NIST NVD JSON data\n",
    "with open('../../data/weekly_cve/raw/nist_nvd.json', 'r') as file:\n",
    "    nvd_json = json.load(file)\n",
    "\n",
    "# Load CSV data for CISA KEV and EPSS\n",
    "cisa_kev_msrc = pd.read_csv('../../data/weekly_cve/raw/cisa_kev.csv')\n",
    "epss = pd.read_csv('../../data/weekly_cve/raw/epss.csv')\n",
    "\n",
    "# Create a dictionary for quick EPSS score lookup\n",
    "epss_dict = epss.set_index('cve')['epss'].to_dict()\n",
    "\n",
    "nvd_kev_epss_data = []\n",
    "\n",
    "for vulnerability in nvd_json:\n",
    "    cve_id = vulnerability['cve']['id']\n",
    "    description = next((desc['value'] for desc in vulnerability['cve']['descriptions'] if desc['lang'] == 'en'), '')\n",
    "\n",
    "    cve_metrics = vulnerability['cve']['metrics']\n",
    "    cve_metric = next(\n",
    "        (metric for metric in cve_metrics.get('cvssMetricV40', []) if metric['source'] == 'nvd@nist.gov'),\n",
    "        next((metric for metric in cve_metrics.get('cvssMetricV31', []) if metric['source'] == 'nvd@nist.gov'), None)\n",
    "    )\n",
    "\n",
    "    cvss_base_score = cve_metric['cvssData']['baseScore'] if cve_metric else None\n",
    "    cvss_severity = cve_metric['cvssData']['baseSeverity'] if cve_metric else None\n",
    "\n",
    "    vendor, product = None, None\n",
    "    if 'configurations' in vulnerability['cve']:\n",
    "        for config in vulnerability['cve']['configurations']:\n",
    "            for node in config['nodes']:\n",
    "                for cpe_match in node['cpeMatch']:\n",
    "                    if cpe_match['vulnerable']:\n",
    "                        cpe_parts = cpe_match['criteria'].split(':')\n",
    "                        vendor, product = cpe_parts[3], cpe_parts[4]\n",
    "                        break\n",
    "\n",
    "    primary_weakness = next(\n",
    "        (weakness['description'][0]['value'] for weakness in vulnerability['cve']['weaknesses']\n",
    "         if weakness['source'] == 'nvd@nist.gov' and weakness['type'] == 'Primary'), None\n",
    "    )\n",
    "\n",
    "    cisa_kev = 'cisaExploitAdd' in vulnerability['cve']\n",
    "    vuln_status = vulnerability['cve'].get('vulnStatus')\n",
    "    epss_score = epss_dict.get(cve_id)\n",
    "\n",
    "    nvd_kev_epss_data.append([\n",
    "        cve_id, description, cvss_base_score, cvss_severity, primary_weakness,\n",
    "        vendor, product, cisa_kev, epss_score, vuln_status\n",
    "    ])\n",
    "\n",
    "# Define the columns and create a DataFrame\n",
    "columns = [\n",
    "    'CVE', 'Description', 'CVSS_Base_Score', 'CVSS_Severity', 'CWE',\n",
    "    'Vendor', 'Product', 'CISA_KEV', 'EPSS', 'Vuln_Status'\n",
    "]\n",
    "\n",
    "nvd_epss_kev = pd.DataFrame(nvd_kev_epss_data, columns=columns)\n",
    "nvd_epss_kev.to_csv('../../data/weekly_cve/processed/nvd_epss_kev.csv', index=False)"
   ],
   "id": "b0607cd68a5fb696",
   "outputs": [
    {
     "data": {
      "text/plain": [
       "       CVSS_Base_Score        EPSS\n",
       "count        72.000000  165.000000\n",
       "mean          8.401389    0.000931\n",
       "std           1.004987    0.001888\n",
       "min           7.100000    0.000420\n",
       "25%           7.500000    0.000460\n",
       "50%           7.950000    0.000520\n",
       "75%           9.800000    0.000870\n",
       "max          10.000000    0.021800"
      ],
      "text/html": [
       "<div>\n",
       "<style scoped>\n",
       "    .dataframe tbody tr th:only-of-type {\n",
       "        vertical-align: middle;\n",
       "    }\n",
       "\n",
       "    .dataframe tbody tr th {\n",
       "        vertical-align: top;\n",
       "    }\n",
       "\n",
       "    .dataframe thead th {\n",
       "        text-align: right;\n",
       "    }\n",
       "</style>\n",
       "<table border=\"1\" class=\"dataframe\">\n",
       "  <thead>\n",
       "    <tr style=\"text-align: right;\">\n",
       "      <th></th>\n",
       "      <th>CVSS_Base_Score</th>\n",
       "      <th>EPSS</th>\n",
       "    </tr>\n",
       "  </thead>\n",
       "  <tbody>\n",
       "    <tr>\n",
       "      <th>count</th>\n",
       "      <td>72.000000</td>\n",
       "      <td>165.000000</td>\n",
       "    </tr>\n",
       "    <tr>\n",
       "      <th>mean</th>\n",
       "      <td>8.401389</td>\n",
       "      <td>0.000931</td>\n",
       "    </tr>\n",
       "    <tr>\n",
       "      <th>std</th>\n",
       "      <td>1.004987</td>\n",
       "      <td>0.001888</td>\n",
       "    </tr>\n",
       "    <tr>\n",
       "      <th>min</th>\n",
       "      <td>7.100000</td>\n",
       "      <td>0.000420</td>\n",
       "    </tr>\n",
       "    <tr>\n",
       "      <th>25%</th>\n",
       "      <td>7.500000</td>\n",
       "      <td>0.000460</td>\n",
       "    </tr>\n",
       "    <tr>\n",
       "      <th>50%</th>\n",
       "      <td>7.950000</td>\n",
       "      <td>0.000520</td>\n",
       "    </tr>\n",
       "    <tr>\n",
       "      <th>75%</th>\n",
       "      <td>9.800000</td>\n",
       "      <td>0.000870</td>\n",
       "    </tr>\n",
       "    <tr>\n",
       "      <th>max</th>\n",
       "      <td>10.000000</td>\n",
       "      <td>0.021800</td>\n",
       "    </tr>\n",
       "  </tbody>\n",
       "</table>\n",
       "</div>"
      ]
     },
     "execution_count": 4,
     "metadata": {},
     "output_type": "execute_result"
    }
   ],
   "execution_count": 4
  }
 ],
 "metadata": {
  "kernelspec": {
   "display_name": "Python 3",
   "language": "python",
   "name": "python3"
  },
  "language_info": {
   "codemirror_mode": {
    "name": "ipython",
    "version": 2
   },
   "file_extension": ".py",
   "mimetype": "text/x-python",
   "name": "python",
   "nbconvert_exporter": "python",
   "pygments_lexer": "ipython2",
   "version": "2.7.6"
  }
 },
 "nbformat": 4,
 "nbformat_minor": 5
}
