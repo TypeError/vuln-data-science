{
 "cells": [
  {
   "cell_type": "markdown",
   "id": "694d3d70469bb602",
   "metadata": {},
   "source": "# Weekly CVE - Data Collection"
  },
  {
   "metadata": {
    "ExecuteTime": {
     "end_time": "2024-09-11T10:12:57.377349Z",
     "start_time": "2024-09-11T10:12:57.369638Z"
    }
   },
   "cell_type": "code",
   "source": [
    "import json\n",
    "import os\n",
    "from datetime import datetime, timedelta\n",
    "\n",
    "import pandas as pd\n",
    "import requests"
   ],
   "id": "f0ea410ba01c8838",
   "outputs": [],
   "execution_count": 13
  },
  {
   "metadata": {},
   "cell_type": "markdown",
   "source": [
    "## Project Setup\n",
    "\n",
    "Before proceeding with data collection, we need to ensure that the necessary directories for storing raw and processed data are in place. This step is crucial to maintain an organized structure for our project, especially when working with multiple datasets over time.\n",
    "\n",
    "The following Python code will check if the required directories exist (`raw` and `processed` under `weekly_cve`), and if not, it will create them. This approach ensures that the environment is always correctly set up before any data processing begins, even if you're running this notebook on a new machine or a fresh clone of the repository.\n"
   ],
   "id": "f67300782f9b0953"
  },
  {
   "metadata": {
    "ExecuteTime": {
     "end_time": "2024-09-11T10:12:57.401988Z",
     "start_time": "2024-09-11T10:12:57.396573Z"
    }
   },
   "cell_type": "code",
   "source": [
    "# Directories to create\n",
    "dirs = [\n",
    "    \"../../data/weekly_cve/raw/\",\n",
    "    \"../../data/weekly_cve/processed/\",\n",
    "]\n",
    "\n",
    "# Create Weekly CVE data directories if they don't exist\n",
    "for d in dirs:\n",
    "    os.makedirs(d, exist_ok=True)"
   ],
   "id": "99e5bc4542e6d1d7",
   "outputs": [],
   "execution_count": 14
  },
  {
   "cell_type": "markdown",
   "id": "8656d56c321c5758",
   "metadata": {},
   "source": [
    "## Fetching and Storing Weekly CVE Data from NIST NVD API\n",
    "\n",
    "In this cell, we are:\n",
    "\n",
    "1. **Fetching CVE Data**:\n",
    "   - We are pulling the Critical and High severity vulnerabilities published in the last week from the NIST National Vulnerability Database (NVD) using their public API.\n",
    "   - We are using a helper function `fetch_nvd_vulnerabilities()` to retrieve the data based on severity (Critical or High) for a specified date range (from last week to today).\n",
    "\n",
    "2. **Combining and Deduplicating Results**:\n",
    "   - The vulnerabilities from both severity levels are combined.\n",
    "   - We extract the unique CVE IDs from the combined list to ensure no duplicates.\n",
    "\n",
    "3. **Writing the Data to a JSON File**:\n",
    "   - The retrieved vulnerabilities are saved to a file in JSON format at the path `../../data/weekly_cve/raw/nist_nvd_json.json`.\n",
    "   - The `json.dump()` function is used to format the data with an indentation level of 2 for readability.\n",
    "\n",
    "This will allow us to persist the raw data locally for future analysis or record-keeping.\n"
   ]
  },
  {
   "metadata": {
    "ExecuteTime": {
     "end_time": "2024-09-11T10:13:10.653253Z",
     "start_time": "2024-09-11T10:12:57.435533Z"
    }
   },
   "cell_type": "code",
   "source": [
    "# Function to get NVD vulnerabilities for a given severity\n",
    "def fetch_nvd_vulnerabilities(severity, start_date, end_date):\n",
    "    url = f\"https://services.nvd.nist.gov/rest/json/cves/2.0/?pubStartDate={start_date}&pubEndDate={end_date}&cvssV3Severity={severity}\"\n",
    "    try:\n",
    "        response = requests.get(url, headers={\"Accept\": \"application/json\"})\n",
    "        response.raise_for_status()  # Raise an exception for HTTP errors\n",
    "        return response.json().get(\"vulnerabilities\", [])\n",
    "    except requests.RequestException as ex:\n",
    "        print(f\"Error fetching {severity} vulnerabilities: {ex}\")\n",
    "        return []\n",
    "\n",
    "\n",
    "# Get today's date and last week's date\n",
    "today = datetime.today()\n",
    "last_week = today - timedelta(weeks=1)\n",
    "\n",
    "# Convert dates to string format required for NIST NVD API\n",
    "date_format = '%Y-%m-%dT00:00:00.000'\n",
    "today_str = today.strftime(date_format)\n",
    "last_week_str = last_week.strftime(date_format)\n",
    "\n",
    "# Fetch vulnerabilities for both Critical and High severities\n",
    "vulnerabilities_critical = fetch_nvd_vulnerabilities(\"CRITICAL\", last_week_str, today_str)\n",
    "vulnerabilities_high = fetch_nvd_vulnerabilities(\"HIGH\", last_week_str, today_str)\n",
    "\n",
    "# Combine and deduplicate vulnerabilities based on CVE ID\n",
    "vulnerabilities = vulnerabilities_critical + vulnerabilities_high\n",
    "cves = list({vuln.get(\"cve\", {}).get(\"id\") for vuln in vulnerabilities})\n",
    "\n",
    "# Output the number of unique CVEs found\n",
    "print(f\"Number of unique CVEs: {len(cves)}\")\n",
    "\n",
    "with open(\"../../data/weekly_cve/raw/nist_nvd.json\", \"w\") as file:\n",
    "    json.dump(vulnerabilities, file, indent=2)"
   ],
   "id": "initial_id",
   "outputs": [
    {
     "name": "stdout",
     "output_type": "stream",
     "text": [
      "Number of unique CVEs: 165\n"
     ]
    }
   ],
   "execution_count": 15
  },
  {
   "metadata": {},
   "cell_type": "markdown",
   "source": [
    "## Fetching EPSS Scores for CVEs from NIST NVD Data\n",
    "\n",
    "This section of the notebook focuses on retrieving the Exploit Prediction Scoring System (EPSS) scores for CVEs associated with the latest NIST NVD data.\n",
    "\n",
    "The steps for this process are outlined below:\n",
    "\n",
    "1. **Divide CVEs into Chunks**: Given the potential limitations on URL length or API request size, the list of CVE identifiers is split into three smaller chunks. This division ensures that we can query the API without exceeding URL length restrictions.\n",
    "\n",
    "2. **Initialize Storage List**: A list called `epss_list` is initialized to store the data fetched in batches.\n",
    "\n",
    "3. **Fetch EPSS Data**: For each chunk of CVEs, a URL is constructed to request their EPSS scores in CSV format from the FIRST.org API. The data from each request is read directly into a pandas DataFrame, which is then appended to the `epss_list`.\n",
    "\n",
    "4. **Concatenate DataFrames**: After all chunks are processed, the individual DataFrames stored in `epss_list` are concatenated into a single DataFrame. This consolidated DataFrame, `epss`, contains all the EPSS scores for the CVEs.\n",
    "\n",
    "5. **Save Data to CSV**: The final DataFrame is saved to a CSV file in the `../../data/raw/` directory. This approach ensures that the EPSS data is easily accessible for further analysis and does not require re-fetching from the API.\n",
    "\n",
    "By automating the retrieval and storage of EPSS data, we enhance our ability to quickly analyze the exploitability of newly reported vulnerabilities and prioritize responses accordingly.\n",
    "\n",
    "See EPSS at [https://www.first.org/epss](https://www.first.org/epss)."
   ],
   "id": "7bf69055c2cd0931"
  },
  {
   "metadata": {
    "ExecuteTime": {
     "end_time": "2024-09-11T10:13:10.936432Z",
     "start_time": "2024-09-11T10:13:10.707386Z"
    }
   },
   "cell_type": "code",
   "source": [
    "# Get latest EPSS data from First.org for NIST NVD CVEs\n",
    "cve_chunk = len(cves) // 3\n",
    "cve_chunks = [cves[i: i + cve_chunk] for i in range(0, len(cves), cve_chunk)]\n",
    "\n",
    "epss_list = []\n",
    "\n",
    "for chunk in cve_chunks:\n",
    "    epss_url = f\"https://api.first.org/data/v1/epss.csv?cve={','.join(chunk)}\"\n",
    "    try:\n",
    "        epss_data = pd.read_csv(epss_url)\n",
    "        epss_list.append(epss_data)\n",
    "    except Exception as e:\n",
    "        print(f\"Error fetching EPSS data for chunk: {chunk} - {e}\")\n",
    "\n",
    "epss = pd.concat(epss_list, ignore_index=True)\n",
    "\n",
    "# Save to CSV\n",
    "epss.to_csv('../../data/weekly_cve/raw/epss.csv', index=False)"
   ],
   "id": "569d13cdb0c4714c",
   "outputs": [],
   "execution_count": 16
  }
 ],
 "metadata": {
  "kernelspec": {
   "display_name": "Python 3",
   "language": "python",
   "name": "python3"
  },
  "language_info": {
   "codemirror_mode": {
    "name": "ipython",
    "version": 2
   },
   "file_extension": ".py",
   "mimetype": "text/x-python",
   "name": "python",
   "nbconvert_exporter": "python",
   "pygments_lexer": "ipython2",
   "version": "2.7.6"
  }
 },
 "nbformat": 4,
 "nbformat_minor": 5
}
